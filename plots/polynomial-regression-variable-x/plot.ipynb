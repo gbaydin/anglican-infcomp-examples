{
 "cells": [
  {
   "cell_type": "code",
   "execution_count": null,
   "metadata": {},
   "outputs": [],
   "source": [
    "import argparse\n",
    "import matplotlib.pyplot as plt\n",
    "import numpy as np\n",
    "import scipy.misc\n",
    "import scipy.stats\n",
    "\n",
    "\n",
    "def empirical_expectation(particle_values, normalized_weights, f):\n",
    "    \"\"\"Returns empirical expectation.\n",
    "\n",
    "    input:\n",
    "        particle_values: np.ndarray [num_particles, dim_1, ..., dim_N]\n",
    "        normalized_weights: np.ndarray [num_particles]\n",
    "        f: function that takes np.ndarray [dim_1, ..., dim_N] and returns\n",
    "            np.ndarray [out_dim_1, ..., out_dim_M]\n",
    "\n",
    "    output: np.ndarray [out_dim_1, ..., out_dim_M]\n",
    "    \"\"\"\n",
    "\n",
    "    result = 0\n",
    "    for p in range(len(normalized_weights)):\n",
    "        f_temp = f(particle_values[p])\n",
    "        result += normalized_weights[p] * f_temp\n",
    "\n",
    "    return result\n",
    "\n",
    "\n",
    "def empirical_mean(particle_values, normalized_weights):\n",
    "    \"\"\"Returns empirical mean.\n",
    "\n",
    "    input:\n",
    "        particle_values: np.ndarray [num_particles, dim_1, ..., dim_N]\n",
    "        normalized_weights: np.ndarray [num_particles]\n",
    "\n",
    "    output: np.ndarray [dim_1, ..., dim_N]\n",
    "    \"\"\"\n",
    "\n",
    "    return empirical_expectation(\n",
    "        particle_values, normalized_weights, lambda x: x\n",
    "    )\n",
    "\n",
    "\n",
    "def empirical_variance(particle_values, normalized_weights):\n",
    "    \"\"\"Returns empirical variance.\n",
    "\n",
    "    input:\n",
    "        particle_values: np.ndarray [num_particles, dim_1, ..., dim_N]\n",
    "        normalized_weights: np.ndarray [num_particles]\n",
    "\n",
    "    output: np.ndarray [dim_1, ..., dim_N]\n",
    "    \"\"\"\n",
    "\n",
    "    return empirical_expectation(\n",
    "        particle_values, normalized_weights, lambda x: x**2\n",
    "    ) - empirical_mean(particle_values, normalized_weights)**2\n",
    "\n",
    "def plot(algorithm, num_dataset, num_particles):\n",
    "    \"\"\" Plots the contents of the specified file, as described in the README \"\"\"\n",
    "    filename = \"inference_\" + algorithm + \"_\" + str(num_dataset) + \"_\" + str(num_particles) + \".pdf\"\n",
    "    with open(\"data_\" + str(num_dataset) + \".csv\") as file:\n",
    "        true_weights = map(float, file.readline().rstrip().split(\",\"))\n",
    "        X = [float(i) for i in file.readline().rstrip().split(\",\")]\n",
    "        Y = [float(i) for i in file.readline().rstrip().split(\",\")]\n",
    "        \n",
    "        \n",
    "        fig, ax = plt.subplots(1, 1)\n",
    "        \n",
    "    with open(algorithm + '_' + str(num_dataset) + '_' + str(num_particles) + \".csv\") as file:\n",
    "        pass\n",
    "\n",
    "if __name__ == \"__main__\":\n",
    "    plot(\"csis\", 1, 10)"
   ]
  },
  {
   "cell_type": "code",
   "execution_count": null,
   "metadata": {
    "collapsed": true
   },
   "outputs": [],
   "source": [
    "1+2"
   ]
  },
  {
   "cell_type": "code",
   "execution_count": null,
   "metadata": {
    "collapsed": true
   },
   "outputs": [],
   "source": []
  }
 ],
 "metadata": {
  "kernelspec": {
   "display_name": "Python 3",
   "language": "python",
   "name": "python3"
  },
  "language_info": {
   "codemirror_mode": {
    "name": "ipython",
    "version": 3
   },
   "file_extension": ".py",
   "mimetype": "text/x-python",
   "name": "python",
   "nbconvert_exporter": "python",
   "pygments_lexer": "ipython3",
   "version": "3.6.1"
  }
 },
 "nbformat": 4,
 "nbformat_minor": 2
}
